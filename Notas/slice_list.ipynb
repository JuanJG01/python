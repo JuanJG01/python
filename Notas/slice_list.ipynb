{
  "nbformat": 4,
  "nbformat_minor": 0,
  "metadata": {
    "colab": {
      "provenance": []
    },
    "kernelspec": {
      "name": "python3",
      "display_name": "Python 3"
    },
    "language_info": {
      "name": "python"
    }
  },
  "cells": [
    {
      "cell_type": "markdown",
      "source": [
        "\n",
        "\n",
        "# List Slicing\n"
      ],
      "metadata": {
        "id": "jGJsnSX1FpnK"
      }
    },
    {
      "cell_type": "code",
      "source": [
        "players = ['one','two','tree','four','five' ]\n",
        "print(players[1])\n",
        "print(players)\n",
        "print(type(players))\n",
        "print(players[1:3])"
      ],
      "metadata": {
        "colab": {
          "base_uri": "https://localhost:8080/"
        },
        "id": "tC58Z2YLFpUn",
        "outputId": "204cca8c-cf3b-467d-b43c-a3cd52bb0bc5"
      },
      "execution_count": null,
      "outputs": [
        {
          "output_type": "stream",
          "name": "stdout",
          "text": [
            "two\n",
            "['one', 'two', 'tree', 'four', 'five']\n",
            "<class 'list'>\n",
            "['two', 'tree']\n"
          ]
        }
      ]
    },
    {
      "cell_type": "code",
      "source": [
        "print(players[0:1])\n",
        "print(players[:3])\n",
        "print(players[-1])"
      ],
      "metadata": {
        "colab": {
          "base_uri": "https://localhost:8080/"
        },
        "id": "NvV1A5ACFndg",
        "outputId": "17a6805b-fe6e-45e5-8b5a-f242fc10ceb5"
      },
      "execution_count": null,
      "outputs": [
        {
          "output_type": "stream",
          "name": "stdout",
          "text": [
            "['one']\n",
            "['one', 'two', 'tree']\n",
            "five\n"
          ]
        }
      ]
    },
    {
      "cell_type": "code",
      "source": [
        "players[2:]"
      ],
      "metadata": {
        "colab": {
          "base_uri": "https://localhost:8080/"
        },
        "id": "n6XNXkS2G1-c",
        "outputId": "a90d9a6c-24c3-43ac-b5d5-356f793966a5"
      },
      "execution_count": null,
      "outputs": [
        {
          "output_type": "execute_result",
          "data": {
            "text/plain": [
              "['tree', 'four', 'five']"
            ]
          },
          "metadata": {},
          "execution_count": 6
        }
      ]
    },
    {
      "cell_type": "code",
      "source": [
        "print(players[:])"
      ],
      "metadata": {
        "colab": {
          "base_uri": "https://localhost:8080/"
        },
        "id": "V3xm-E9GG6Vr",
        "outputId": "303f3abf-294b-4011-d853-0c0beb2fbe9a"
      },
      "execution_count": null,
      "outputs": [
        {
          "output_type": "stream",
          "name": "stdout",
          "text": [
            "['one', 'two', 'tree', 'four', 'five']\n"
          ]
        }
      ]
    },
    {
      "cell_type": "code",
      "source": [
        "print(players[-1])\n",
        "print(players[:-1])\n",
        "print(players[-3:])\n",
        "print(players[-5:-1])"
      ],
      "metadata": {
        "colab": {
          "base_uri": "https://localhost:8080/"
        },
        "id": "MfSlnrgCHDat",
        "outputId": "9972a592-4f69-41b1-8884-f29d4477dfa5"
      },
      "execution_count": null,
      "outputs": [
        {
          "output_type": "stream",
          "name": "stdout",
          "text": [
            "five\n",
            "['one', 'two', 'tree', 'four']\n",
            "['tree', 'four', 'five']\n",
            "['one', 'two', 'tree', 'four']\n"
          ]
        }
      ]
    },
    {
      "cell_type": "code",
      "source": [
        "first_index = -5\n",
        "print(players[first_index:])"
      ],
      "metadata": {
        "colab": {
          "base_uri": "https://localhost:8080/"
        },
        "id": "e9rZ2WSLI3at",
        "outputId": "a0a70386-a4a9-417f-8a30-52673e81113d"
      },
      "execution_count": null,
      "outputs": [
        {
          "output_type": "stream",
          "name": "stdout",
          "text": [
            "['one', 'two', 'tree', 'four', 'five']\n"
          ]
        }
      ]
    },
    {
      "cell_type": "code",
      "source": [
        "# palíndromo = oso , anitalavalatina\n",
        "\n",
        "players.append('six')\n",
        "players.append('seven')\n",
        "players.append('eigth')\n",
        "players.append('nan')\n",
        "players.append('ten')"
      ],
      "metadata": {
        "id": "auBSHTazJM5n"
      },
      "execution_count": null,
      "outputs": []
    },
    {
      "cell_type": "code",
      "source": [
        "print(players)\n",
        "print(players[::2])\n",
        "print(players[3:9:2])\n",
        "print(players[1::2])"
      ],
      "metadata": {
        "colab": {
          "base_uri": "https://localhost:8080/"
        },
        "id": "PnpBSFyQKEER",
        "outputId": "6d0b83c2-4fdd-4477-f593-f9a47a1df4df"
      },
      "execution_count": null,
      "outputs": [
        {
          "output_type": "stream",
          "name": "stdout",
          "text": [
            "['one', 'two', 'tree', 'four', 'five', 'six', 'seven', 'eight', 'nan', 'ten']\n",
            "['one', 'tree', 'five', 'seven', 'nan']\n",
            "['four', 'six', 'eight']\n",
            "['two', 'four', 'six', 'eight', 'ten']\n"
          ]
        }
      ]
    },
    {
      "cell_type": "code",
      "source": [
        "numbers = list(range(1,11))\n",
        "print(numbers)\n",
        "print(len(numbers))"
      ],
      "metadata": {
        "colab": {
          "base_uri": "https://localhost:8080/"
        },
        "id": "-8YIQWvgKNVg",
        "outputId": "e06bd54b-549c-4b8b-d406-4d40ce11cc82"
      },
      "execution_count": null,
      "outputs": [
        {
          "output_type": "stream",
          "name": "stdout",
          "text": [
            "[1, 2, 3, 4, 5, 6, 7, 8, 9, 10]\n",
            "10\n"
          ]
        }
      ]
    },
    {
      "cell_type": "code",
      "source": [
        "print(numbers[::2])\n",
        "print(numbers[::-1])"
      ],
      "metadata": {
        "colab": {
          "base_uri": "https://localhost:8080/"
        },
        "id": "d3CNn02iLiju",
        "outputId": "4d3e6fba-eafb-4131-f7d0-1bd527203c62"
      },
      "execution_count": null,
      "outputs": [
        {
          "output_type": "stream",
          "name": "stdout",
          "text": [
            "[1, 3, 5, 7, 9]\n",
            "[10, 9, 8, 7, 6, 5, 4, 3, 2, 1]\n"
          ]
        }
      ]
    },
    {
      "cell_type": "code",
      "source": [
        "word = 'anitalavalatina'\n",
        "word == word[::-1]"
      ],
      "metadata": {
        "colab": {
          "base_uri": "https://localhost:8080/"
        },
        "id": "EdeyhCw_MLGi",
        "outputId": "7f981df3-da06-4b8e-f7cf-ffc1a2d783e6"
      },
      "execution_count": null,
      "outputs": [
        {
          "output_type": "execute_result",
          "data": {
            "text/plain": [
              "True"
            ]
          },
          "metadata": {},
          "execution_count": 49
        }
      ]
    },
    {
      "cell_type": "code",
      "source": [],
      "metadata": {
        "id": "K4p1wucgM3De"
      },
      "execution_count": null,
      "outputs": []
    }
  ]
}
{
 "cells": [
  {
   "cell_type": "markdown",
   "metadata": {},
   "source": [
    "# Tuplas\n",
    "<img src=\"https://cdn.worldvectorlogo.com/logos/python-3.svg\" width=\"150px\" /> <img src=\"https://logowik.com/content/uploads/images/markdown1678.logowik.com.webp\" width=\"70px\" />  "
   ]
  },
  {
   "cell_type": "markdown",
   "metadata": {},
   "source": [
    "## Definición y usos comunes\n",
    "\n",
    "Las tuplas son secuencias ordenadas e inmutables de elementos en Python. A diferencia de las listas, las tuplas no pueden ser modificadas una vez que han sido creadas. Esto las hace útiles para representar datos que no deben ser cambiados, como las coordenadas geográficas, datos de un sensor, entre otros. Algunos usos comunes de las tuplas incluyen:\n",
    "\n",
    "- Almacenar datos que no deben modificarse.\n",
    "- Devolver múltiples valores desde una función.\n",
    "- Utilizar como claves en un diccionario.\n",
    "\n",
    "#### Creación de Tuplas\n",
    "\n",
    "Las tuplas se pueden crear de varias formas:\n",
    "\n",
    "**Tupla vacía:**"
   ]
  },
  {
   "cell_type": "code",
   "execution_count": 11,
   "metadata": {},
   "outputs": [],
   "source": [
    "tupla_vacia = ()"
   ]
  },
  {
   "cell_type": "markdown",
   "metadata": {},
   "source": [
    "**Tupla con elementos**"
   ]
  },
  {
   "cell_type": "code",
   "execution_count": 12,
   "metadata": {},
   "outputs": [],
   "source": [
    "mi_tupla = (1, 2, 3, 'a', 'b', 'c')"
   ]
  },
  {
   "cell_type": "markdown",
   "metadata": {},
   "source": [
    "**Tupla con un solo elemento (se requiere coma al final):**"
   ]
  },
  {
   "cell_type": "code",
   "execution_count": 13,
   "metadata": {},
   "outputs": [],
   "source": [
    "tupla_un_elemento = (42,)"
   ]
  },
  {
   "cell_type": "markdown",
   "metadata": {},
   "source": [
    "**Convertir lista a tupla:**"
   ]
  },
  {
   "cell_type": "code",
   "execution_count": 14,
   "metadata": {},
   "outputs": [],
   "source": [
    "lista = [1, 2, 3]\n",
    "tupla_desde_lista = tuple(lista)"
   ]
  },
  {
   "cell_type": "markdown",
   "metadata": {},
   "source": [
    "## Acceso a los Elementos de una Tupla\n",
    "\n",
    "Los elementos de una tupla se pueden acceder mediante índices:"
   ]
  },
  {
   "cell_type": "code",
   "execution_count": 15,
   "metadata": {},
   "outputs": [],
   "source": [
    "mi_tupla = (1, 2, 3, 'a', 'b', 'c')\n",
    "\n",
    "primer_elemento = mi_tupla[0]  # Acceder al primer elemento\n",
    "ultimo_elemento = mi_tupla[-1]  # Acceder al último elemento"
   ]
  },
  {
   "cell_type": "markdown",
   "metadata": {},
   "source": [
    "#### Modificación y Eliminación de Elementos en una Tupla\n",
    "\n",
    "Debido a que las tuplas son inmutables, no se pueden modificar una vez creadas. Sin embargo, es posible crear una nueva tupla a partir de una existente:"
   ]
  },
  {
   "cell_type": "code",
   "execution_count": 16,
   "metadata": {},
   "outputs": [],
   "source": [
    "mi_tupla = (1, 2, 3)\n",
    "mi_tupla += (4, 5, 6)  # Crear una nueva tupla con elementos adicionales\n",
    "\n",
    "# Eliminar una tupla\n",
    "del mi_tupla"
   ]
  },
  {
   "cell_type": "markdown",
   "metadata": {},
   "source": [
    "#### Diferencias entre Tuplas y Listas\n",
    "\n",
    "Algunas diferencias importantes entre tuplas y listas son:\n",
    "\n",
    "1. **Inmutabilidad:** Las tuplas son inmutables, mientras que las listas son mutables.\n",
    "2. **Sintaxis:** Las tuplas se definen con paréntesis () y las listas con corchetes [].\n",
    "3. **Rendimiento:** Debido a su inmutabilidad, las tuplas pueden ser más eficientes en términos de rendimiento que las listas."
   ]
  },
  {
   "cell_type": "markdown",
   "metadata": {},
   "source": [
    "# Ejercicios\n",
    "\n",
    "- Crea una tupla con tus tres colores favoritos.\n",
    "- Accede al segundo elemento de la tupla anterior.\n",
    "- Concatena dos tuplas.\n",
    "- Convierte una tupla en una lista.\n",
    "- Crea una tupla anidada.\n",
    "- Encuentra el índice de un elemento en una tupla.\n",
    "- Cuenta cuántas veces aparece un elemento en una tupla.\n",
    "- Combina dos tuplas en un solo diccionario.\n",
    "- Comprueba si un elemento existe en una tupla.\n",
    "- Elimina una tupla existente."
   ]
  },
  {
   "cell_type": "markdown",
   "metadata": {},
   "source": [
    "##### 1. Crea una tupla con tus tres colores favoritos."
   ]
  },
  {
   "cell_type": "code",
   "execution_count": 17,
   "metadata": {},
   "outputs": [],
   "source": [
    "colores = ('azul', 'verde', 'rojo')"
   ]
  },
  {
   "cell_type": "markdown",
   "metadata": {},
   "source": [
    "#### 2. Accede al segundo elemento de la tupla anterior."
   ]
  },
  {
   "cell_type": "code",
   "execution_count": 18,
   "metadata": {},
   "outputs": [
    {
     "name": "stdout",
     "output_type": "stream",
     "text": [
      "El segundo color favorito es: verde\n"
     ]
    }
   ],
   "source": [
    "segundo_color = colores[1]\n",
    "print(\"El segundo color favorito es:\", segundo_color)"
   ]
  },
  {
   "cell_type": "markdown",
   "metadata": {},
   "source": [
    "####  3. Concatena dos tuplas.\n"
   ]
  },
  {
   "cell_type": "code",
   "execution_count": 19,
   "metadata": {},
   "outputs": [
    {
     "name": "stdout",
     "output_type": "stream",
     "text": [
      "Tupla concatenada: (1, 2, 3, 'a', 'b', 'c')\n"
     ]
    }
   ],
   "source": [
    "tupla1 = (1, 2, 3)\n",
    "tupla2 = ('a', 'b', 'c')\n",
    "\n",
    "tupla_concatenada = tupla1 + tupla2\n",
    "\n",
    "print(\"Tupla concatenada:\", tupla_concatenada)"
   ]
  },
  {
   "cell_type": "markdown",
   "metadata": {},
   "source": [
    "#### 4. Convierte una tupla en una lista."
   ]
  },
  {
   "cell_type": "code",
   "execution_count": 20,
   "metadata": {},
   "outputs": [
    {
     "name": "stdout",
     "output_type": "stream",
     "text": [
      "Tupla convertida en lista: [1, 2, 3, 'a', 'b', 'c']\n"
     ]
    }
   ],
   "source": [
    "tupla = (1, 2, 3, 'a', 'b', 'c')\n",
    "\n",
    "lista = list(tupla)\n",
    "\n",
    "print(\"Tupla convertida en lista:\", lista)"
   ]
  },
  {
   "cell_type": "markdown",
   "metadata": {},
   "source": [
    "#### 5. Crea una tupla anidada."
   ]
  },
  {
   "cell_type": "code",
   "execution_count": 21,
   "metadata": {},
   "outputs": [
    {
     "name": "stdout",
     "output_type": "stream",
     "text": [
      "Tupla anidada: ((1, 2), ('a', 'b'), (True, False))\n"
     ]
    }
   ],
   "source": [
    "tupla_anidada = ((1, 2), ('a', 'b'), (True, False))\n",
    "\n",
    "print(\"Tupla anidada:\", tupla_anidada)"
   ]
  },
  {
   "cell_type": "markdown",
   "metadata": {},
   "source": [
    "#### 6. Encuentra el índice de un elemento en una tupla."
   ]
  },
  {
   "cell_type": "code",
   "execution_count": 22,
   "metadata": {},
   "outputs": [
    {
     "name": "stdout",
     "output_type": "stream",
     "text": [
      "El índice de 'c' en la tupla es: 2\n"
     ]
    }
   ],
   "source": [
    "mi_tupla = ('a', 'b', 'c', 'd', 'e')\n",
    "\n",
    "indice = mi_tupla.index('c')\n",
    "\n",
    "print(\"El índice de 'c' en la tupla es:\", indice)"
   ]
  },
  {
   "cell_type": "markdown",
   "metadata": {},
   "source": [
    "#### 7. Cuenta cuántas veces aparece un elemento en una tupla. "
   ]
  },
  {
   "cell_type": "code",
   "execution_count": 23,
   "metadata": {},
   "outputs": [
    {
     "name": "stdout",
     "output_type": "stream",
     "text": [
      "El elemento 'a' aparece 3 veces en la tupla.\n"
     ]
    }
   ],
   "source": [
    "mi_tupla = ('a', 'b', 'c', 'a', 'd', 'a')\n",
    "\n",
    "apariciones = mi_tupla.count('a')\n",
    "\n",
    "print(\"El elemento 'a' aparece\", apariciones, \"veces en la tupla.\")"
   ]
  },
  {
   "cell_type": "markdown",
   "metadata": {},
   "source": [
    "#### 8. Combina dos tuplas en un solo diccionario."
   ]
  },
  {
   "cell_type": "code",
   "execution_count": 24,
   "metadata": {},
   "outputs": [
    {
     "name": "stdout",
     "output_type": "stream",
     "text": [
      "Diccionario combinado: {'a': 1, 'b': 2, 'c': 3}\n"
     ]
    }
   ],
   "source": [
    "tupla_claves = ('a', 'b', 'c')\n",
    "tupla_valores = (1, 2, 3)\n",
    "\n",
    "diccionario = dict(zip(tupla_claves, tupla_valores))\n",
    "\n",
    "print(\"Diccionario combinado:\", diccionario)"
   ]
  },
  {
   "cell_type": "markdown",
   "metadata": {},
   "source": [
    "#### 9. Comprueba si un elemento existe en una tupla."
   ]
  },
  {
   "cell_type": "code",
   "execution_count": 25,
   "metadata": {},
   "outputs": [
    {
     "name": "stdout",
     "output_type": "stream",
     "text": [
      "El elemento c existe en la tupla.\n"
     ]
    }
   ],
   "source": [
    "mi_tupla = ('a', 'b', 'c', 'd', 'e')\n",
    "\n",
    "elemento = 'c'\n",
    "\n",
    "if elemento in mi_tupla:\n",
    "    print(\"El elemento\", elemento, \"existe en la tupla.\")\n",
    "else:\n",
    "    print(\"El elemento\", elemento, \"no existe en la tupla.\")"
   ]
  },
  {
   "cell_type": "markdown",
   "metadata": {},
   "source": [
    "#### 10. Elimina una tupla existente."
   ]
  },
  {
   "cell_type": "code",
   "execution_count": 26,
   "metadata": {},
   "outputs": [
    {
     "ename": "NameError",
     "evalue": "name 'mi_tupla' is not defined",
     "output_type": "error",
     "traceback": [
      "\u001b[1;31m---------------------------------------------------------------------------\u001b[0m",
      "\u001b[1;31mNameError\u001b[0m                                 Traceback (most recent call last)",
      "Cell \u001b[1;32mIn[26], line 5\u001b[0m\n\u001b[0;32m      1\u001b[0m mi_tupla \u001b[38;5;241m=\u001b[39m (\u001b[38;5;241m1\u001b[39m, \u001b[38;5;241m2\u001b[39m, \u001b[38;5;241m3\u001b[39m, \u001b[38;5;124m'\u001b[39m\u001b[38;5;124ma\u001b[39m\u001b[38;5;124m'\u001b[39m, \u001b[38;5;124m'\u001b[39m\u001b[38;5;124mb\u001b[39m\u001b[38;5;124m'\u001b[39m, \u001b[38;5;124m'\u001b[39m\u001b[38;5;124mc\u001b[39m\u001b[38;5;124m'\u001b[39m)\n\u001b[0;32m      3\u001b[0m \u001b[38;5;28;01mdel\u001b[39;00m mi_tupla\n\u001b[1;32m----> 5\u001b[0m \u001b[38;5;28mprint\u001b[39m(\u001b[43mmi_tupla\u001b[49m)\n",
      "\u001b[1;31mNameError\u001b[0m: name 'mi_tupla' is not defined"
     ]
    }
   ],
   "source": [
    "mi_tupla = (1, 2, 3, 'a', 'b', 'c')\n",
    "\n",
    "del mi_tupla\n",
    "\n",
    "print(mi_tupla)"
   ]
  },
  {
   "cell_type": "markdown",
   "metadata": {},
   "source": [
    "En este ejemplo, la declaración del mi_tupla eliminará la tupla completa. Si intentas acceder o imprimir mi_tupla después de eliminarla, obtendrás un error NameError, ya que la tupla ya no existe en el espacio de nombres."
   ]
  }
 ],
 "metadata": {
  "kernelspec": {
   "display_name": "Python 3",
   "language": "python",
   "name": "python3"
  },
  "language_info": {
   "codemirror_mode": {
    "name": "ipython",
    "version": 3
   },
   "file_extension": ".py",
   "mimetype": "text/x-python",
   "name": "python",
   "nbconvert_exporter": "python",
   "pygments_lexer": "ipython3",
   "version": "3.12.2"
  }
 },
 "nbformat": 4,
 "nbformat_minor": 2
}

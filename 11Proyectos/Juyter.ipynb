{
 "cells": [
  {
   "cell_type": "markdown",
   "metadata": {},
   "source": [
    "# 11 mini proyectos\n",
    "#### Juan Emanuel Jimenez Garcia\n",
    "\n",
    "<img src=\"https://cdn.worldvectorlogo.com/logos/python-3.svg\" width=\"150px\" /> <img src=\"https://logowik.com/content/uploads/images/markdown1678.logowik.com.webp\" width=\"70px\" />  "
   ]
  },
  {
   "cell_type": "markdown",
   "metadata": {},
   "source": [
    "## 1. par o impar\n",
    "\n",
    "Este programa solicita al usuario que introduzca un número entre 1 y 1000. Luego, verifica si el número proporcionado es par o impar. Finalmente, imprime un mensaje que indica si el número es par o impar.\n",
    "\n",
    "El programa sigue los siguientes pasos:\n",
    "\n",
    "- Da la bienvenida al usuario  \n",
    "- solicita que introduzca un número entre 1 y 1000 y Lee el número proporcionado por el usuario.\n",
    "- Verifica si el número es divisible por 2 (es decir, si es par) o no e Imprime un mensaje indicando si el número es par o impar.\n",
    "- Gestióna la entrada del usuario para continuar o salir del programa"
   ]
  },
  {
   "cell_type": "markdown",
   "metadata": {},
   "source": [
    "  Lo primero que haremos sera dar la bienvenida para esto utilizaremos un simple print:"
   ]
  },
  {
   "cell_type": "code",
   "execution_count": 35,
   "metadata": {},
   "outputs": [
    {
     "name": "stdout",
     "output_type": "stream",
     "text": [
      "¡Bienvenido!\n"
     ]
    }
   ],
   "source": [
    "print(\"¡Bienvenido!\")"
   ]
  },
  {
   "cell_type": "markdown",
   "metadata": {},
   "source": [
    "### bucle while\n",
    "\n",
    "despues crearemos un bucle donde se solicita al usuario que introduzca un número entre 1 y 1000. Si el usuario proporciona un número válido, el bucle se rompe y el número se almacena en la variable numero."
   ]
  },
  {
   "cell_type": "code",
   "execution_count": 36,
   "metadata": {},
   "outputs": [],
   "source": [
    "while True:\n",
    "    try:\n",
    "        numero = int(input(\"Por favor, introduce un número entre 1 y 1000: \"))\n",
    "        if 1 <= numero <= 1000:\n",
    "            break\n",
    "        else:\n",
    "            print(\"Por favor, introduce un número válido entre 1 y 1000.\")\n",
    "    except ValueError:\n",
    "        print(\"Por favor, introduce un número entero válido.\")"
   ]
  },
  {
   "cell_type": "markdown",
   "metadata": {},
   "source": [
    "### Verificación de paridad y resultado\n",
    "\n",
    "Aquí se crea una condicion donde el numero capturado por el usuario se divide entre dos y si el resultado es cero se imprime que es par, si la condicion no se cumple se imprimira que el numero es impar."
   ]
  },
  {
   "cell_type": "code",
   "execution_count": 37,
   "metadata": {},
   "outputs": [
    {
     "name": "stdout",
     "output_type": "stream",
     "text": [
      "¡Ese número es par!\n"
     ]
    }
   ],
   "source": [
    "if numero % 2 == 0:\n",
    "    print(\"¡Ese número es par!\")\n",
    "else:\n",
    "    print(\"¡Ese número es impar!\")"
   ]
  },
  {
   "cell_type": "markdown",
   "metadata": {},
   "source": [
    "## 2. Juego del Mad Lib\n",
    "\n",
    "El juego del Mad Lib es una actividad divertida y creativa en la que los jugadores completan una historia con palabras específicas solicitadas por el programa. En este programa particular, el usuario proporciona palabras como sustantivos, adjetivos y lugares, que se utilizan para completar una historia predefinida.\n",
    "\n",
    "El juego sigue los siguientes pasos:\n",
    "\n",
    "- El usuario ingresa palabras como sustantivos, adjetivos y lugares cuando se le solicita.\n",
    "- Estas palabras se utilizan para llenar los espacios en blanco en una historia predefinida.\n",
    "- La historia completa, ahora con las palabras del usuario, se imprime para su visualización.\n",
    "- El usuario tiene la opción de jugar de nuevo, ingresando nuevas palabras para crear una nueva historia."
   ]
  },
  {
   "cell_type": "markdown",
   "metadata": {},
   "source": [
    "lo primero es solicitar al usuario que ingrese palabras para completar la historia, estas palabras se almacenaran en variables."
   ]
  },
  {
   "cell_type": "code",
   "execution_count": 38,
   "metadata": {},
   "outputs": [],
   "source": [
    "sustantivo = input(\"Elige un sustantivo: \")\n",
    "sustantivo_plural = input(\"Elige un sustantivo en plural: \")\n",
    "sustantivo2 = input(\"Elige otro sustantivo: \")\n",
    "lugar = input(\"Dime un lugar: \")\n",
    "adjetivo = input(\"Elige un adjetivo (palabra que describe): \")\n",
    "sustantivo3 = input(\"Elige otro sustantivo: \")"
   ]
  },
  {
   "cell_type": "markdown",
   "metadata": {},
   "source": [
    "### Imprimir el resultado del juego del Mad Lib\n",
    "\n",
    "Despues, se imprime el resultado del juego del Mad Lib utilizando print y las variables donde se almacenaron las palabras ingresadas por el usuario."
   ]
  },
  {
   "cell_type": "code",
   "execution_count": 39,
   "metadata": {},
   "outputs": [
    {
     "name": "stdout",
     "output_type": "stream",
     "text": [
      "------------------------------------------\n",
      "Sé amable con tu Pato - de Patos\n",
      "Porque un pato podría ser el Tigre de alguien,\n",
      "Sé amable con tus Patos en Casa\n",
      "Donde el clima siempre es Raro .\n",
      "\n",
      "Puedes pensar que esto es el Broma ,\n",
      "Bueno, lo es.\n",
      "------------------------------------------\n"
     ]
    }
   ],
   "source": [
    "print(\"------------------------------------------\")\n",
    "print(\"Sé amable con tu\", sustantivo, \"- de\", sustantivo_plural)\n",
    "print(\"Porque un pato podría ser el\", sustantivo2, \"de alguien,\")\n",
    "print(\"Sé amable con tus\", sustantivo_plural, \"en\", lugar)\n",
    "print(\"Donde el clima siempre es\", adjetivo, \".\")\n",
    "print()\n",
    "print(\"Puedes pensar que esto es el\", sustantivo3, \",\")\n",
    "print(\"Bueno, lo es.\")\n",
    "print(\"------------------------------------------\")"
   ]
  },
  {
   "cell_type": "markdown",
   "metadata": {},
   "source": [
    "## 3. Contador de palabras\n",
    "\n",
    "El programa \"Contador de palabras\" es una herramienta simple pero útil que permite a los usuarios contar las palabras en una oración ingresada por ellos mismos, así como en un archivo de texto proporcionado por el usuario.\n",
    "\n",
    "- Solicita al usuario que ingrese una oración.\n",
    "- Cuenta las palabras en la oración ingresada por el usuario.\n",
    "- Muestra el número de palabras en la oración.\n",
    "- Solicita al usuario que ingrese el nombre de un archivo de texto.\n",
    "- Lee el contenido del archivo y cuenta las palabras en él.\n",
    "- Muestra el número de palabras en el archivo.\n",
    "- Maneja las excepciones en caso de que el archivo no se encuentre."
   ]
  },
  {
   "cell_type": "markdown",
   "metadata": {},
   "source": [
    "lo primero que haremos sera definir la función contar_palabras, que cuenta las palabras en una oración."
   ]
  },
  {
   "cell_type": "code",
   "execution_count": 40,
   "metadata": {},
   "outputs": [],
   "source": [
    "def contar_palabras(oracion):\n",
    "    palabras = oracion.split()\n",
    "    numero_palabras = len(palabras)\n",
    "    return numero_palabras"
   ]
  },
  {
   "cell_type": "markdown",
   "metadata": {},
   "source": [
    "### Función principal del programa\n",
    "\n",
    "a continuacion se define la que sera la funcion principal del programa con un main() el cual solicita una oración al usuario y cuenta sus palabras.Impirme un mensaje indicando uantas palabras tiene la eleccion del usuario."
   ]
  },
  {
   "cell_type": "code",
   "execution_count": 41,
   "metadata": {},
   "outputs": [],
   "source": [
    "def main():\n",
    "    oracion_usuario = input(\"¿Qué tienes en mente hoy? \")\n",
    "    palabras_oracion_usuario = contar_palabras(oracion_usuario)\n",
    "    print(f\"Oh, ¡qué bueno! ¡Acabas de decirme lo que tienes en mente en {palabras_oracion_usuario} palabras!\")"
   ]
  },
  {
   "cell_type": "markdown",
   "metadata": {},
   "source": [
    "### Manejo de archivos y ejecución principal del programa\n",
    "\n",
    "finalmente se trabaja con archvos que el usuario eliga Lee el contenido del archivo proporcionado por el usuario y cuenta sus palabras. Si el archivo no se encuentra, imprime un mensaje de error."
   ]
  },
  {
   "cell_type": "code",
   "execution_count": 42,
   "metadata": {},
   "outputs": [
    {
     "name": "stdout",
     "output_type": "stream",
     "text": [
      "El archivo no se encontró. Por favor, asegúrate de que el nombre del archivo sea correcto.\n",
      "Oh, ¡qué bueno! ¡Acabas de decirme lo que tienes en mente en 4 palabras!\n"
     ]
    }
   ],
   "source": [
    "nombre_archivo = input(\"Por favor, introduce el nombre del archivo: \")\n",
    "try:\n",
    "        with open(nombre_archivo, 'r') as archivo:\n",
    "            contenido = archivo.read()\n",
    "            palabras_archivo = contar_palabras(contenido)\n",
    "            print(f\"El archivo '{nombre_archivo}' tiene un total de {palabras_archivo} palabras.\")\n",
    "except FileNotFoundError:\n",
    "        print(\"El archivo no se encontró. Por favor, asegúrate de que el nombre del archivo sea correcto.\")\n",
    "\n",
    "if __name__ == \"__main__\":\n",
    "    main()"
   ]
  },
  {
   "cell_type": "markdown",
   "metadata": {},
   "source": [
    "## 4. Biografia\n",
    "\n",
    "El siguiente programa pregunta a un usuario su información personal en una sola ronda de preguntas. Luego se verifica que la información que se ha ingresado sea válida. Finalmente, se imprime un resumen de toda la información que ha sido ingresada.\n",
    "\n",
    "El programa sigue los siguientes pasos:\n",
    "\n",
    "- **Validación de la Información:** La primera parte del programa consiste en funciones que utilizan expresiones - regulares para validar la información ingresada por el usuario, incluyendo su nombre, fecha de nacimiento y dirección.\n",
    "\n",
    "- **Solicitud de Información:** La segunda parte del programa contiene una función que solicita al usuario su nombre, fecha de nacimiento, dirección y metas personales. Esta función verifica que la información ingresada sea válida utilizando las funciones de validación definidas en la primera parte.\n",
    "\n",
    "- **Impresión del Resumen:** La tercera parte del programa incluye una función que imprime un resumen de la información recopilada del usuario, mostrando su nombre, fecha de nacimiento, dirección y metas personales."
   ]
  },
  {
   "cell_type": "markdown",
   "metadata": {},
   "source": [
    "### Funciones para validar la información ingresada\n",
    "\n",
    "lo primero que se hace es definir las funciones para validar los caracteres que el usuario inngrese para ello se importa la funcion re y se define la variable donde el usuario ingresara los datos, ademas de agregar un if el cual devolvera un true si la condicion se cumple."
   ]
  },
  {
   "cell_type": "code",
   "execution_count": 43,
   "metadata": {},
   "outputs": [],
   "source": [
    "import re\n",
    "\n",
    "def validar_nombre(nombre):\n",
    "    if re.match(\"^[A-Za-z ]+$\", nombre):\n",
    "        return True\n",
    "    else:\n",
    "        return False\n",
    "\n",
    "def validar_fecha(fecha):\n",
    "    if re.match(\"^[A-Za-z]+ [0-9]{1,2}, [0-9]{4}$\", fecha):\n",
    "        return True\n",
    "    else:\n",
    "        return False\n",
    "\n",
    "def validar_direccion(direccion):\n",
    "    if re.match(\"^[A-Za-z0-9, ]+$\", direccion):\n",
    "        return True\n",
    "    else:\n",
    "        return False"
   ]
  },
  {
   "cell_type": "markdown",
   "metadata": {},
   "source": [
    "### Función para solicitar información al usuario\n",
    "\n",
    "una vez definidas las funciones para validar definimos otra función: **solicitar_informacion()** que solicita al usuario su nombre, fecha de nacimiento, dirección y metas personales. Se asegura de que la información ingresada sea válida utilizando las funciones de validación definidas anteriormente."
   ]
  },
  {
   "cell_type": "code",
   "execution_count": 44,
   "metadata": {},
   "outputs": [],
   "source": [
    "def solicitar_informacion():\n",
    "        global nombre, fecha_nacimiento, direccion, metas_personales\n",
    "\n",
    "nombre = input(\"¿Cuál es tu nombre? \")\n",
    "while not validar_nombre(nombre):\n",
    "        print(\"Por favor, ingresa un nombre válido.\")\n",
    "        nombre = input(\"¿Cuál es tu nombre? \")\n",
    "\n",
    "fecha_nacimiento = input(\"¿Cuál es tu fecha de nacimiento? (Ejemplo: Jun 1, 1954) \")\n",
    "while not validar_fecha(fecha_nacimiento):\n",
    "        print(\"Por favor, ingresa una fecha de nacimiento válida en el formato correcto.\")\n",
    "        fecha_nacimiento = input(\"¿Cuál es tu fecha de nacimiento? (Ejemplo: Jan 1, 1954) \")\n",
    "\n",
    "direccion = input(\"¿Cuál es tu dirección? \")\n",
    "while not validar_direccion(direccion):\n",
    "        print(\"Por favor, ingresa una dirección válida.\")\n",
    "        direccion = input(\"¿Cuál es tu dirección? \")\n",
    "\n",
    "metas_personales = input(\"¿Cuáles son tus metas personales? \")"
   ]
  },
  {
   "cell_type": "markdown",
   "metadata": {},
   "source": [
    "### Función para imprimir un resumen de la información ingresada\n",
    "\n",
    "una vez capturada y validada la informacion del usuario finalmente en la funcion **imprimir_resumen()** se imprime un resumen de la información ingresada por el usuario. Esta función se llama en la función principal main() después de que se haya recopilado toda la información del usuario."
   ]
  },
  {
   "cell_type": "code",
   "execution_count": 45,
   "metadata": {},
   "outputs": [
    {
     "name": "stdout",
     "output_type": "stream",
     "text": [
      "\n",
      "Resumen de tu información personal:\n",
      "- Nombre: Juan\n",
      "- Fecha de nacimiento: Oct 20, 1999\n",
      "- Direccion: Delicias\n",
      "- Metas: Programar\n"
     ]
    }
   ],
   "source": [
    "def imprimir_resumen():\n",
    "    print(\"\\nResumen de tu información personal:\")\n",
    "    print(\"- Nombre:\", nombre)\n",
    "    print(\"- Fecha de nacimiento:\", fecha_nacimiento)\n",
    "    print(\"- Direccion:\", direccion)\n",
    "    print(\"- Metas:\", metas_personales)\n",
    "\n",
    "def main():\n",
    "    solicitar_informacion()\n",
    "    imprimir_resumen()\n",
    "\n",
    "main()"
   ]
  },
  {
   "cell_type": "markdown",
   "metadata": {},
   "source": [
    "## 5. Acrónimo\n",
    "\n",
    "El siguiente programa es una herramienta que permite generar un acrónimo a partir de una frase completa ingresada por el usuario. Un acrónimo es una abreviatura formada por las letras iniciales de cada palabra en una frase. Este programa simplifica el proceso de creación de acrónimos, lo que puede ser útil en diversas situaciones, como abreviar nombres largos o representar conceptos de manera concisa.\n",
    "\n",
    "El programa sigue los siguientes pasos:\n",
    "\n",
    "- **Función para Obtener el Acrónimo:** La primera parte del programa incluye una función que toma una frase como entrada, divide la frase en palabras y luego forma un acrónimo utilizando la primera letra de cada palabra en mayúscula.\n",
    "\n",
    "- **Función Principal del Programa:** La segunda parte del programa contiene la función principal main(), que solicita al usuario que ingrese el significado completo de una organización o concepto. Luego, llama a la función para obtener el acrónimo correspondiente y finalmente imprime el acrónimo junto con la frase completa ingresada por el usuario."
   ]
  },
  {
   "cell_type": "markdown",
   "metadata": {},
   "source": [
    "### Función para obtener el acrónimo de una frase\n",
    "\n",
    "lo primero es definir una funcion la cual se encargara de tomar una frase como entrada, divide la frase en palabras y luego forma un acrónimo utilizando la primera letra de cada palabra en mayúscula."
   ]
  },
  {
   "cell_type": "code",
   "execution_count": 46,
   "metadata": {},
   "outputs": [],
   "source": [
    "def obtener_acronimo(frase):\n",
    "    acronimo = ''.join(word[0].upper() for word in frase.split())\n",
    "    return acronimo"
   ]
  },
  {
   "cell_type": "markdown",
   "metadata": {},
   "source": [
    "### principal del programa\n",
    "\n",
    "despues se solicita al usuario que ingrese el significado completo de una organización o concepto, llama a la función obtener_acronimo() para obtener el acrónimo correspondiente y finalmente imprime el acrónimo junto con la frase completa ingresada por el usuario."
   ]
  },
  {
   "cell_type": "code",
   "execution_count": 47,
   "metadata": {},
   "outputs": [
    {
     "name": "stdout",
     "output_type": "stream",
     "text": [
      "El acrónimo para Universidad Autonoma Baja Califonia es: UABC\n"
     ]
    }
   ],
   "source": [
    "def main():\n",
    "    frase_completa = input(\"Por favor, ingresa el significado completo de una organización o concepto: \")\n",
    "    acronimo = obtener_acronimo(frase_completa)\n",
    "    print(\"El acrónimo para\", frase_completa, \"es:\", acronimo)\n",
    "\n",
    "if __name__ == \"__main__\":\n",
    "    main()"
   ]
  },
  {
   "cell_type": "markdown",
   "metadata": {},
   "source": [
    "## 6. Piedra papel o Tijeras\n",
    "\n",
    "El programa \"Piedra Papel o Tijeras\" es una versión computarizada del clásico juego de manos, donde un jugador compite contra la computadora. Este programa se divide en dos partes principales:\n",
    "\n",
    "- **Función para Jugar Piedra, Papel o Tijeras:** La primera parte del programa incluye una función que determina el resultado de una ronda del juego. Toma como entrada las elecciones del jugador y la computadora, y devuelve el resultado del juego.\n",
    "\n",
    "- **Función Principal del Programa:** La segunda parte del programa contiene la función principal main(), que permite al jugador jugar contra la computadora en una serie de rondas. Muestra las opciones disponibles para el jugador, solicita su elección y la compara con la elección aleatoria de la computadora. Luego, muestra el resultado de la ronda y permite al jugador continuar jugando o salir del juego.\n",
    "\n"
   ]
  },
  {
   "cell_type": "markdown",
   "metadata": {},
   "source": [
    "### Función para jugar Piedra, Papel o Tijeras\n",
    "\n",
    "determina el resultado de un juego de Piedra, Papel o Tijeras. Toma como entrada las elecciones del jugador y la computadora y devuelve el resultado del juego."
   ]
  },
  {
   "cell_type": "code",
   "execution_count": 48,
   "metadata": {},
   "outputs": [],
   "source": [
    "import random\n",
    "\n",
    "def jugar_piedra_papel_tijeras(jugador, computadora):\n",
    "    if jugador == computadora:\n",
    "        return \"¡Es un empate!\"\n",
    "    elif (jugador == 1 and computadora == 3) or (jugador == 2 and computadora == 1) or (jugador == 3 and computadora == 2):\n",
    "        return \"¡Felicidades! ¡Ganaste!\"\n",
    "    else:\n",
    "        return \"¡Oh no! ¡La computadora ganó!\""
   ]
  },
  {
   "cell_type": "markdown",
   "metadata": {},
   "source": [
    "### Función principal del programa\n",
    "\n",
    "el jugador elige entre Piedra, Papel o Tijeras, jugar contra la computadora y mostrar el resultado del juego. El bucle while permite que el juego continúe hasta que el jugador decida salir. se utiliza un if y un random para determinar el resultado del juego."
   ]
  },
  {
   "cell_type": "code",
   "execution_count": 49,
   "metadata": {},
   "outputs": [
    {
     "name": "stdout",
     "output_type": "stream",
     "text": [
      "Elige una opción:\n",
      "1) Piedra\n",
      "2) Papel\n",
      "3) Tijeras\n",
      "4) Salir\n",
      "Tú elegiste: piedra\n",
      "La computadora eligió: tijeras\n",
      "¡Felicidades! ¡Ganaste!\n",
      "Elige una opción:\n",
      "1) Piedra\n",
      "2) Papel\n",
      "3) Tijeras\n",
      "4) Salir\n",
      "¡Gracias por jugar! ¡Hasta luego!\n"
     ]
    }
   ],
   "source": [
    "def main():\n",
    "    opciones = {1: \"piedra\", 2: \"papel\", 3: \"tijeras\"}\n",
    "    while True:\n",
    "        print(\"Elige una opción:\")\n",
    "        print(\"1) Piedra\")\n",
    "        print(\"2) Papel\")\n",
    "        print(\"3) Tijeras\")\n",
    "        print(\"4) Salir\")\n",
    "        jugador = input(\"Tu elección: \")\n",
    "        \n",
    "        if jugador == '4':\n",
    "            print(\"¡Gracias por jugar! ¡Hasta luego!\")\n",
    "            break\n",
    "\n",
    "        try:\n",
    "            jugador = int(jugador)\n",
    "            if jugador in opciones:\n",
    "                computadora = random.randint(1, 3)\n",
    "                resultado = jugar_piedra_papel_tijeras(jugador, computadora)\n",
    "                print(\"Tú elegiste:\", opciones[jugador])\n",
    "                print(\"La computadora eligió:\", opciones[computadora])\n",
    "                print(resultado)\n",
    "            else:\n",
    "                print(\"Por favor, elige una opción válida.\")\n",
    "        except ValueError:\n",
    "            print(\"Por favor, ingresa un número válido.\")\n",
    "\n",
    "if __name__ == \"__main__\":\n",
    "    main()"
   ]
  },
  {
   "cell_type": "markdown",
   "metadata": {},
   "source": [
    "## 7. adivina\n",
    "\n",
    "El programa \"Adivina\" es una simulación del popular juego \"Adivina el Número\". En este juego, el jugador debe adivinar un número secreto generado aleatoriamente entre 1 y 50 en la menor cantidad de intentos posibles. Este programa se divide en dos partes principales:\n",
    "\n",
    "- **Función para Jugar Adivina el Número:** La primera parte del programa incluye una función que simula el juego \"Adivina el Número\". Genera un número secreto aleatorio y permite al jugador intentar adivinarlo, proporcionando pistas sobre si el número es demasiado alto o demasiado bajo.\n",
    "\n",
    "- **Función Principal del Programa:** La segunda parte del programa contiene la función principal main(), que da la bienvenida al jugador al juego \"Adivina el Número\" y luego llama a la función para comenzar a jugar."
   ]
  },
  {
   "cell_type": "markdown",
   "metadata": {},
   "source": [
    "### Función para jugar Adivina el Número\n",
    "\n",
    "lo primero es Generar el numero el usuario intentara adivinar para esto se utiliza un Random el cual genera un número secreto aleatorio entre 1 y 50 y permite al jugador intentar adivinarlo. La función continua hasta que el jugador adivina el número o decide dejar de jugar. Se utiliaron if para validar si el numero que capturo el usuario es menor o mayor que el numero generado y se le hace saber por medio de un print."
   ]
  },
  {
   "cell_type": "code",
   "execution_count": 54,
   "metadata": {},
   "outputs": [
    {
     "name": "stdout",
     "output_type": "stream",
     "text": [
      "Demasiado bajo. Intenta de nuevo.\n",
      "¡Gracias por jugar!\n"
     ]
    }
   ],
   "source": [
    "import random\n",
    "\n",
    "numero_secreto = random.randint(1, 50)\n",
    "intentos = 0\n",
    "    \n",
    "while True:\n",
    "        intento = input(\"Adivina el número secreto entre 1 y 50: \")\n",
    "\n",
    "        try:\n",
    "            intento = int(intento)\n",
    "            if intento < 1 or intento > 50:\n",
    "                print(\"Error: Por favor, elige un número dentro del rango correcto (1-50).\")\n",
    "                continue\n",
    "            \n",
    "            intentos += 1\n",
    "            if intento < numero_secreto:\n",
    "                print(\"Demasiado bajo. Intenta de nuevo.\")\n",
    "            elif intento > numero_secreto:\n",
    "                print(\"Demasiado alto. Intenta de nuevo.\")\n",
    "            else:\n",
    "                print(f\"Felicidades, ¡adivinaste el número secreto {numero_secreto} en {intentos} intentos!\")\n",
    "                break\n",
    "\n",
    "            continuar = input(\"¿Quieres seguir jugando? (sí/no): \").lower()\n",
    "            if continuar != 'si':\n",
    "                print(\"¡Gracias por jugar!\")\n",
    "                break\n",
    "        except ValueError:\n",
    "            print(\"Error: Por favor, ingresa un número válido.\")"
   ]
  },
  {
   "cell_type": "markdown",
   "metadata": {},
   "source": [
    "## 8. Palíndromo\n",
    "\n",
    "El programa \"Palíndromo\" es una herramienta diseñada para identificar palabras palíndromas. Un palíndromo es una palabra que se lee igual de adelante hacia atrás como de atrás hacia adelante, como \"radar\" o \"reconocer\". Este programa se divide en dos partes principales, cada una contenida en una celda separada de un Jupyter Notebook:\n",
    "\n",
    "- **Función para Verificar Palíndromos:** La primera parte del programa incluye una función que verifica si una palabra dada es un palíndromo. Utiliza la técnica de rebanado de cadenas para invertir la palabra y luego compara la palabra original con su reverso para determinar si son iguales.\n",
    "\n",
    "- **Función Principal del Programa:** La segunda parte del programa contiene la función principal main(), que solicita al usuario que ingrese cinco palabras, las verifica utilizando la función de verificación de palíndromos y luego imprime las palabras que son palíndromos."
   ]
  },
  {
   "cell_type": "markdown",
   "metadata": {},
   "source": [
    "### Función para verificar si una palabra es un palíndromo\n",
    "\n",
    "lo primero es verificar si una palabra es un palíndromo. Utiliza la técnica de rebanado de cadenas ([::-1]) para invertir la palabra y luego compara la palabra original con su reverso."
   ]
  },
  {
   "cell_type": "code",
   "execution_count": 55,
   "metadata": {},
   "outputs": [],
   "source": [
    "def es_palindromo(palabra):\n",
    "    return palabra == palabra[::-1]"
   ]
  },
  {
   "cell_type": "markdown",
   "metadata": {},
   "source": [
    "### Función principal del programa\n",
    "\n",
    "lo siguiente es solicitar al usuario que ingrese cinco palabras, las cuales se almacenan en una lista y luego se verifica cuáles de ellas son palíndromos utilizando la función es_palindromo() definida anteriormente. Finalmente, imprime las palabras que son palíndromos o un mensaje indicando que ninguna de las palabras ingresadas es un palíndromo."
   ]
  },
  {
   "cell_type": "code",
   "execution_count": 56,
   "metadata": {},
   "outputs": [
    {
     "name": "stdout",
     "output_type": "stream",
     "text": [
      "Las siguientes palabras son palíndromos:\n",
      "- oso\n",
      "- anna\n"
     ]
    }
   ],
   "source": [
    "def main():\n",
    "    palabras = []\n",
    "    for i in range(5):\n",
    "        palabra = input(f\"Ingrese la palabra {i+1}: \").lower()\n",
    "        palabras.append(palabra)\n",
    "\n",
    "    palindromos = []\n",
    "    for palabra in palabras:\n",
    "        if es_palindromo(palabra):\n",
    "            palindromos.append(palabra)\n",
    "\n",
    "    if palindromos:\n",
    "        print(\"Las siguientes palabras son palíndromos:\")\n",
    "        for palindromo in palindromos:\n",
    "            print(\"-\", palindromo)\n",
    "    else:\n",
    "        print(\"Ninguna de las palabras ingresadas es un palíndromo.\")\n",
    "\n",
    "if __name__ == \"__main__\":\n",
    "    main()"
   ]
  },
  {
   "cell_type": "markdown",
   "metadata": {},
   "source": [
    "## 9. Propina \n",
    "\n",
    "El siuiente programa calcula la cantidad de propina a dejar en un establecimiento, así como el total de la cuenta incluyendo la propina, utilizando diferentes porcentajes de propina. Este programa se divide en dos partes principales:\n",
    "\n",
    "- **Función para Calcular la Propina:** La primera parte del programa incluye una función que toma el total de la cuenta como entrada y calcula la cantidad de propina, así como el total de la cuenta, con tres diferentes porcentajes de propina: 18%, 20% y 25%.\n",
    "\n",
    "- **Función Principal del Programa:** La segunda parte del programa contiene la función principal main(), que solicita al usuario que ingrese el total de la cuenta, luego llama a la función de cálculo de propina para obtener los valores con los diferentes porcentajes de propina, y finalmente imprime estos valores de forma clara y legible."
   ]
  },
  {
   "cell_type": "markdown",
   "metadata": {},
   "source": [
    "### Función para calcular la propina\n",
    "\n",
    "toma el total de la cuenta como entrada y calcula la cantidad de propina y el total de la cuenta con tres diferentes porcentajes de propina: 18%, 20% y 25%. Retorna estos valores."
   ]
  },
  {
   "cell_type": "code",
   "execution_count": 57,
   "metadata": {},
   "outputs": [],
   "source": [
    "def calcular_propina(total_cuenta):\n",
    "    propina_18 = total_cuenta * 0.18\n",
    "    total_18 = total_cuenta + propina_18\n",
    "\n",
    "    propina_20 = total_cuenta * 0.20\n",
    "    total_20 = total_cuenta + propina_20\n",
    "\n",
    "    propina_25 = total_cuenta * 0.25\n",
    "    total_25 = total_cuenta + propina_25\n",
    "\n",
    "    return propina_18, total_18, propina_20, total_20, propina_25, total_25"
   ]
  },
  {
   "cell_type": "markdown",
   "metadata": {},
   "source": [
    "### Función principal del programa\n",
    "\n",
    "A continuacion se solicita al usuario el total de la cuenta y se llama a la función calcular_propina() para obtener los valores de propina y total de cuenta con los tres porcentajes de propina, e imprime estos valores en un formato fácil de leer."
   ]
  },
  {
   "cell_type": "code",
   "execution_count": 58,
   "metadata": {},
   "outputs": [
    {
     "name": "stdout",
     "output_type": "stream",
     "text": [
      "La propina del 18% es de $21.60, lo que hace un total de $141.60.\n",
      "La propina del 20% es de $24.00, lo que hace un total de $144.00.\n",
      "La propina del 25% es de $30.00, lo que hace un total de $150.00.\n"
     ]
    }
   ],
   "source": [
    "def main():\n",
    "    total_cuenta = float(input(\"¿Cuál es el total de la cuenta para hoy, por favor? $\"))\n",
    "    propina_18, total_18, propina_20, total_20, propina_25, total_25 = calcular_propina(total_cuenta)\n",
    "\n",
    "    print(f\"La propina del 18% es de ${propina_18:.2f}, lo que hace un total de ${total_18:.2f}.\")\n",
    "    print(f\"La propina del 20% es de ${propina_20:.2f}, lo que hace un total de ${total_20:.2f}.\")\n",
    "    print(f\"La propina del 25% es de ${propina_25:.2f}, lo que hace un total de ${total_25:.2f}.\")\n",
    "\n",
    "if __name__ == \"__main__\":\n",
    "    main()"
   ]
  },
  {
   "cell_type": "markdown",
   "metadata": {},
   "source": [
    "## 10. Extractor \n",
    "\n",
    "El programa siguiente programa verifica el dominio de una dirección de correo electrónico proporcionada por el usuario. Este programa se divide en dos partes principales:\n",
    "\n",
    "- **Función para Verificar el Dominio del Correo Electrónico:** La primera parte del programa incluye una función que toma una dirección de correo electrónico como entrada, divide la dirección en nombre de usuario y dominio, y luego verifica si el dominio pertenece a una lista de dominios populares. Dependiendo del resultado, el programa imprime un mensaje personalizado.\n",
    "\n",
    "- **Función Principal del Programa:** La segunda parte del programa contiene la función principal main(), que solicita al usuario que ingrese su dirección de correo electrónico, luego llama a la función de verificación de dominio para verificar el dominio del correo electrónico ingresado y muestra el resultado."
   ]
  },
  {
   "cell_type": "markdown",
   "metadata": {},
   "source": [
    "### Función para verificar el dominio del correo electrónico\n",
    "\n",
    "lo primero es tomar una dirección de correo electrónico como entrada y verifica el dominio de la dirección. Despues se divide el correo electrónico en nombre de usuario y dominio utilizando el símbolo \"@\" y luego se verifica si el dominio está en una lista de dominios populares. Imprime un mensaje personalizado dependiendo de si el dominio es popular o personalizado."
   ]
  },
  {
   "cell_type": "code",
   "execution_count": 61,
   "metadata": {},
   "outputs": [],
   "source": [
    "def verificar_dominio(correo_electronico):\n",
    "    nombre_usuario, dominio = correo_electronico.split('@')\n",
    "    \n",
    "    dominios_populares = ['gmail.com', 'yahoo.com', 'hotmail.com', 'outlook.com']\n",
    "    \n",
    "    if dominio.lower() in dominios_populares:\n",
    "        print(f\"¡Hola {nombre_usuario.capitalize()}, veo que tu correo electrónico está registrado con {dominio.capitalize()}! ¡Qué genial!\")\n",
    "    else:\n",
    "        print(f\"¡Hola {nombre_usuario.capitalize()}, parece que tienes tu propia configuración personalizada en {dominio.capitalize()}! ¡Impresionante!\")\n"
   ]
  },
  {
   "cell_type": "markdown",
   "metadata": {},
   "source": [
    "### Función principal del programa\n",
    "\n",
    "Solicita al usuario que ingrese su dirección de correo electrónico, luego llama a la función verificar_dominio() para verificar el dominio del correo electrónico ingresado."
   ]
  },
  {
   "cell_type": "code",
   "execution_count": 62,
   "metadata": {},
   "outputs": [
    {
     "name": "stdout",
     "output_type": "stream",
     "text": [
      "¡Hola Juan, veo que tu correo electrónico está registrado con Gmail.com! ¡Qué genial!\n"
     ]
    }
   ],
   "source": [
    "def main():\n",
    "    correo_electronico = input(\"Ingrese su dirección de correo electrónico: \")\n",
    "    verificar_dominio(correo_electronico)\n",
    "\n",
    "if __name__ == \"__main__\":\n",
    "    main()"
   ]
  },
  {
   "cell_type": "markdown",
   "metadata": {},
   "source": [
    "## 11. Canciones\n",
    "\n",
    "finalmente llegamos al ultimo programa: \"Canciones\" el cual permite a los usuarios acceder a las letras de varias canciones populares. Este programa se divide en dos partes principales:\n",
    "\n",
    "- **Función para Obtener la Letra de una Canción:** La primera parte del programa incluye una función que toma el nombre de una canción como entrada y devuelve su letra correspondiente. Utiliza un diccionario que mapea cada canción a su letra para proporcionar acceso rápido a la letra de la canción seleccionada.\n",
    "\n",
    "- **Función Principal del Programa:** La segunda parte del programa contiene la función principal main(), que presenta al usuario un menú de selección de canciones y permite al usuario seleccionar una canción por su número de opción. Luego, muestra la letra de la canción seleccionada utilizando la función para obtener la letra."
   ]
  },
  {
   "cell_type": "markdown",
   "metadata": {},
   "source": [
    "### Función para obtener la letra de una canción\n",
    "\n",
    "toma el nombre de una canción como entrada y devuelve su letra correspondiente, utilizando un diccionario letras que asigna cada canción a su letra correspondiente. Si la canción no se encuentra en el diccionario, la función devuelve un mensaje indicando que la letra no se encontró."
   ]
  },
  {
   "cell_type": "code",
   "execution_count": 63,
   "metadata": {},
   "outputs": [],
   "source": [
    "def obtener_letra(cancion):\n",
    "    letras = {\n",
    "        \"Dubidubidu\": \"\"\"Si tú quieres bailar, jugar, pintar, cantar\n",
    "Tú puedes venir a mi casa\n",
    "La idea es compartir, te vas a divertir\n",
    "Si quieres venir a mi casa\"\"\",\n",
    "        \"creeper vs zombie rap\": \"\"\"Tú no lo sabes, te estoy vigilando\n",
    "Desde la distancia me estoy acercando\n",
    "Soy una sombra y tú no te das cuenta\n",
    "Hola, ¿qué tal? ¡Date la vuelta!\"\"\",\n",
    "        \"rosa pastel\": \"\"\"Sí, yo quería ser esa mujer\n",
    "La madre de tus hijos\n",
    "Y juntos caminar hacia el altar\n",
    "Directo hacia la muerte\"\"\",\n",
    "        \"mil rosas para mi\": \"\"\"Por eso esperaba con la carita empapada\n",
    "A que llegaras con rosas, con mil rosas para mí\n",
    "Porque ya sabes que me encantan esas cosas\n",
    "Que no importa si es muy tonto, soy así\n",
    "Y aún me parece mentira que se escape mi vida\n",
    "Imaginando que vuelves a pasarte por aquí\n",
    "Donde los viernes cada tarde, como siempre\n",
    "La esperanza dice quieta, hoy quizás sí\"\"\",\n",
    "        \"eres horrible vete a la versh\": \"\"\"Inicias la semana con un rostro amargo\n",
    "Horrible como todo un perdedor\n",
    "Te comes un cereal muy viejo\n",
    "Después de verte al espejo, y te preguntas si la vida te dará algo mejor\"\"\",\n",
    "        \"el ratón vaquero\": \"\"\"En la ratonera ha caído un ratón\n",
    "Con sus dos pistolas y su traje de cowboy\n",
    "Ha de ser gringuito porque siempre habla inglés\n",
    "A más de ser güerito y tener grandes los pies\"\"\",\n",
    "        \"el puton del barrio\": \"\"\"Los amigos le dicen: \"marica\"\n",
    "Y su nombre es Rosario\n",
    "Pero todos le llamamos\n",
    "El Putón del barrio\n",
    "                                  \n",
    "Se encamó con el de la despensa\n",
    "Y con el comisario\n",
    "Y así fue que le quedó\n",
    "El Putón del barrio\"\"\",\n",
    "        \"godzilla vs king kong rap\": \"\"\"Chitón, llegó el jodido King Kong\n",
    "Puedes jugar con mis pelotas y llamarlo Ping-Pong\n",
    "Sin pincharme Winstrol estoy hecho puro músculo\n",
    "Los dos somos gigantes más tu poder es minúsculo\n",
    "No suelo tener compasión con mis adversarios\n",
    "Y además ya he roto la mandíbula a algún dinosaurio\"\"\",\n",
    "        \"el caballo homosexual\": \"\"\"Perdido en las montañas\n",
    "Le gusta caminar entre las flores\n",
    "Los animales le temen\n",
    "Y cuando lo ven se esconden\"\"\",\n",
    "         \"Chacarron\": \"\"\"Oh yeah\n",
    "Seummm soumm, yeouh, macarron\n",
    "Yeah, macarron, no\n",
    "Chacarron\n",
    "Chacarron\n",
    "Chacarron\n",
    "Chacarron\"\"\"\n",
    "    }\n",
    "    return letras.get(cancion, \"Lo siento, no encontré la letra de esa canción.\")"
   ]
  },
  {
   "cell_type": "markdown",
   "metadata": {},
   "source": [
    "### Función principal del programa\n",
    "\n",
    "Presenta al usuario un menú de selección de canciones, permite al usuario seleccionar una canción por su número de opción, y luego utiliza un diccionario canciones para mapear las opciones del usuario a los nombres de las canciones. Una vez que se selecciona una canción válida, se obtiene su letra utilizando la función obtener_letra y se muestra al usuario."
   ]
  },
  {
   "cell_type": "code",
   "execution_count": 64,
   "metadata": {},
   "outputs": [
    {
     "name": "stdout",
     "output_type": "stream",
     "text": [
      "Bienvenido, por favor selecciona una canción de este top 10 de canciones:\n",
      "\n",
      "    1) Dubidubidu\n",
      "    2) creeper vs zombie rap\n",
      "    3) rosa pastel\n",
      "    4) mil rosas para mi\n",
      "    5) eres horrible vete a la versh\n",
      "    6) el ratón vaquero\n",
      "    7) el puton del barrio\n",
      "    8) godzilla vs king kong rap\n",
      "    9) el caballo homosexual\n",
      "    10) Chacarron\n",
      "    \n",
      "Seleccionaste Dubidubidu. Aquí tienes:\n",
      "Si tú quieres bailar, jugar, pintar, cantar\n",
      "Tú puedes venir a mi casa\n",
      "La idea es compartir, te vas a divertir\n",
      "Si quieres venir a mi casa\n"
     ]
    }
   ],
   "source": [
    "def main():\n",
    "    print(\"Bienvenido, por favor selecciona una canción de este top 10 de canciones:\")\n",
    "    print(\"\"\"\n",
    "    1) Dubidubidu\n",
    "    2) creeper vs zombie rap\n",
    "    3) rosa pastel\n",
    "    4) mil rosas para mi\n",
    "    5) eres horrible vete a la versh\n",
    "    6) el ratón vaquero\n",
    "    7) el puton del barrio\n",
    "    8) godzilla vs king kong rap\n",
    "    9) el caballo homosexual\n",
    "    10) Chacarron\n",
    "    \"\"\")\n",
    "    opcion = input(\"Selecciona una canción: \")\n",
    "\n",
    "    canciones = {\n",
    "        \"1\": \"Dubidubidu\",\n",
    "        \"2\": \"creeper vs zombie rap\",\n",
    "        \"3\": \"rosa pastel\",\n",
    "        \"4\": \"mil rosas para mi\",\n",
    "        \"5\": \"eres horrible vete a la versh\",\n",
    "        \"6\": \"el ratón vaquero\",\n",
    "        \"7\": \"el puton del barrio\",\n",
    "        \"8\": \"godzilla vs king kong rap\",\n",
    "        \"9\": \"el caballo homosexual\",\n",
    "        \"10\": \"Chacarron\"\n",
    "    }\n",
    "\n",
    "    cancion_elegida = canciones.get(opcion)\n",
    "    if cancion_elegida:\n",
    "        letra = obtener_letra(cancion_elegida)\n",
    "        print(f\"Seleccionaste {cancion_elegida}. Aquí tienes:\\n{letra}\")\n",
    "    else:\n",
    "        print(\"Opción inválida. Por favor, selecciona una canción válida.\")\n",
    "\n",
    "if __name__ == \"__main__\":\n",
    "    main()"
   ]
  },
  {
   "cell_type": "markdown",
   "metadata": {},
   "source": [
    "## Conclusión\n",
    "\n",
    "En este proyecto, hemos creado un conjunto de mini programas en Python que abarcan una variedad de funcionalidades, desde juegos simples hasta utilidades prácticas. Cada programa ha sido diseñado para proporcionar una experiencia interactiva y educativa para los usuarios, permitiéndoles explorar diferentes conceptos de programación de una manera divertida y accesible.\n",
    "\n",
    "A lo largo de este proceso, hemos aprendido sobre el uso de funciones, estructuras de control, manejo de excepciones y estructuras de datos como diccionarios y listas en Python. También hemos practicado la división del código en celdas de un Jupyter Notebook para una mejor organización y legibilidad.\n",
    "\n",
    "Este proyecto ha sido una oportunidad emocionante para aplicar nuestros conocimientos de programación en situaciones prácticas y divertidas. Espero que estos mini programas no solo te diviertan, sino que también te ayuden a consolidar tus habilidades de programación y te inspiren a explorar más en el fascinante mundo de Python.\n",
    "\n",
    "¡Gracias por acompañarnos en este viaje!"
   ]
  }
 ],
 "metadata": {
  "kernelspec": {
   "display_name": "Python 3",
   "language": "python",
   "name": "python3"
  },
  "language_info": {
   "codemirror_mode": {
    "name": "ipython",
    "version": 3
   },
   "file_extension": ".py",
   "mimetype": "text/x-python",
   "name": "python",
   "nbconvert_exporter": "python",
   "pygments_lexer": "ipython3",
   "version": "3.11.8"
  }
 },
 "nbformat": 4,
 "nbformat_minor": 2
}
